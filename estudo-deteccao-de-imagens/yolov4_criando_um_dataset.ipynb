{
  "nbformat": 4,
  "nbformat_minor": 0,
  "metadata": {
    "colab": {
      "provenance": []
    },
    "kernelspec": {
      "name": "python3",
      "display_name": "Python 3"
    },
    "accelerator": "GPU"
  },
  "cells": [
    {
      "cell_type": "markdown",
      "metadata": {
        "id": "gvnZra8OXj8U"
      },
      "source": [
        "# YOLOv4 - Como criar sua própria base de imagens"
      ]
    },
    {
      "cell_type": "markdown",
      "metadata": {
        "id": "W3mr1n76gN-1"
      },
      "source": [
        "O nosso conjunto de imagens customizado para fazer o treinamento com o YOLO deve conter:\n",
        "\n",
        "* Imagens dos objetos que queremos reconhecer, já catalogadas (com os arquivos annotation)\n",
        "* Arquivos obj.data e obj.names\n",
        "* Arquivo .cfg customizado\n",
        "* Arquivo train.txt (test.txt é opcional)"
      ]
    },
    {
      "cell_type": "markdown",
      "metadata": {
        "id": "6N5AYMarjtZ_"
      },
      "source": [
        "Há duas maneiras principais para reunir as imagens\n",
        "* Baixar de um dataset ou repositório como o Open Images Dataset, um dataset da Google que disponibiliza imagens para mais de 600 classes diferentes.\n",
        "A maneira mais prática atualmente para baixar as imagens do Open Images Dataset é usar a ferramenta [OIDv4 Toolkit](https://github.com/EscVM/OIDv4_ToolKit).\n",
        "* A segunda maneira consiste em baixar manualmente as imagens do objeto e catalogá-las utilizando alguma ferramenta de anotação (annotation tool) para obter os txt com as anotações. Esse é um processo manual e que pode ser bastante demorado, portanto recomendamos verificar se a classe escolhida não está no Dataset do Google. Se você não encontrou no Open Images Dataset o objeto que deseja detectar então é necessário baixar manualmente. Por ser um método mais demorado e cansativo nós recomendamos fazer somente caso não tiver outra maneira de conseguir facilmente baixar essa imagens."
      ]
    },
    {
      "cell_type": "markdown",
      "metadata": {
        "id": "R_lNQfvXcXEl"
      },
      "source": [
        "# Coletando e catalogando as imagens do objeto para treinamento"
      ]
    },
    {
      "cell_type": "markdown",
      "metadata": {
        "id": "PS0oGeB4X59W"
      },
      "source": [
        "## Etapa 1 - Clonando o repositório da ferramenta"
      ]
    },
    {
      "cell_type": "code",
      "metadata": {
        "id": "UyucoO5z9hM5",
        "outputId": "2c427538-1083-4d9f-bef3-e8d983f02d08",
        "colab": {
          "base_uri": "https://localhost:8080/"
        }
      },
      "source": [
        "!git clone https://github.com/EscVM/OIDv4_ToolKit.git"
      ],
      "execution_count": 1,
      "outputs": [
        {
          "output_type": "stream",
          "name": "stdout",
          "text": [
            "Cloning into 'OIDv4_ToolKit'...\n",
            "remote: Enumerating objects: 422, done.\u001b[K\n",
            "remote: Total 422 (delta 0), reused 0 (delta 0), pack-reused 422 (from 1)\u001b[K\n",
            "Receiving objects: 100% (422/422), 34.08 MiB | 14.64 MiB/s, done.\n",
            "Resolving deltas: 100% (146/146), done.\n"
          ]
        }
      ]
    },
    {
      "cell_type": "markdown",
      "metadata": {
        "id": "0HGydJaEYTdj"
      },
      "source": [
        "## Etapa 2 - Acessando o diretório da ferramenta"
      ]
    },
    {
      "cell_type": "code",
      "metadata": {
        "id": "4CcU-d44RShN",
        "outputId": "93f52bc3-6104-4501-e0f3-a265fddb743b",
        "colab": {
          "base_uri": "https://localhost:8080/"
        }
      },
      "source": [
        "ls"
      ],
      "execution_count": 2,
      "outputs": [
        {
          "output_type": "stream",
          "name": "stdout",
          "text": [
            "\u001b[0m\u001b[01;34mOIDv4_ToolKit\u001b[0m/  \u001b[01;34msample_data\u001b[0m/\n"
          ]
        }
      ]
    },
    {
      "cell_type": "code",
      "metadata": {
        "id": "-F-P0Qr8RWBr",
        "outputId": "1db456f8-ba89-479c-8c4f-dd2e816f6fc5",
        "colab": {
          "base_uri": "https://localhost:8080/"
        }
      },
      "source": [
        "cd OIDv4_ToolKit/"
      ],
      "execution_count": 3,
      "outputs": [
        {
          "output_type": "stream",
          "name": "stdout",
          "text": [
            "/content/OIDv4_ToolKit\n"
          ]
        }
      ]
    },
    {
      "cell_type": "code",
      "metadata": {
        "id": "TKSzyo9ZRYuX",
        "outputId": "131441d0-63a0-4013-fbf4-f6c6c9c0e1f0",
        "colab": {
          "base_uri": "https://localhost:8080/"
        }
      },
      "source": [
        "ls"
      ],
      "execution_count": 4,
      "outputs": [
        {
          "output_type": "stream",
          "name": "stdout",
          "text": [
            "classes.txt  \u001b[0m\u001b[01;34mimages\u001b[0m/  LICENSE  main.py  \u001b[01;34mmodules\u001b[0m/  README.md  requirements.txt\n"
          ]
        }
      ]
    },
    {
      "cell_type": "markdown",
      "metadata": {
        "id": "FWLutEtfYrrh"
      },
      "source": [
        "## Etapa 3 - Instalando todas as bibliotecas necessárias"
      ]
    },
    {
      "cell_type": "code",
      "metadata": {
        "id": "uUtMalvNRcF3"
      },
      "source": [
        "!pip3 install -r requirements.txt"
      ],
      "execution_count": null,
      "outputs": []
    },
    {
      "cell_type": "markdown",
      "metadata": {
        "id": "At8ek4zlZIyT"
      },
      "source": [
        "## Etapa 4 - Fazendo o download das imagens"
      ]
    },
    {
      "cell_type": "markdown",
      "metadata": {
        "id": "DmGzBS8P2je8"
      },
      "source": [
        "### Conjunto de imagens de Treinamento\n",
        "\n",
        "- https://storage.googleapis.com/openimages/web/index.html"
      ]
    },
    {
      "cell_type": "code",
      "metadata": {
        "id": "5M5F3fWDSGzj",
        "outputId": "99e4c3aa-bbff-4346-d5d8-74c8f89a2ce6",
        "colab": {
          "base_uri": "https://localhost:8080/"
        }
      },
      "source": [
        "# Carregar imagens da base de dados\n",
        "# Carregando imangens para treino das classes Apple, Coffee_cup, Horse\n",
        "# limit: Quantidade de imagens\n",
        "# multiclasses: salva tudo na mesma pasta\n",
        "!python main.py downloader --classes Apple Coffee_cup Horse --type_csv train --limit 500 --multiclasses 1"
      ],
      "execution_count": 6,
      "outputs": [
        {
          "output_type": "stream",
          "name": "stdout",
          "text": [
            "\u001b[92m\n",
            "\t\t   ___   _____  ______            _    _    \n",
            "\t\t .'   `.|_   _||_   _ `.         | |  | |   \n",
            "\t\t/  .-.  \\ | |    | | `. \\ _   __ | |__| |_  \n",
            "\t\t| |   | | | |    | |  | |[ \\ [  ]|____   _| \n",
            "\t\t\\  `-'  /_| |_  _| |_.' / \\ \\/ /     _| |_  \n",
            "\t\t `.___.'|_____||______.'   \\__/     |_____|\n",
            "\t\u001b[0m\n",
            "\u001b[92m\n",
            "             _____                    _                 _             \n",
            "            (____ \\                  | |               | |            \n",
            "             _   \\ \\ ___  _ _ _ ____ | | ___   ____  _ | | ____  ____ \n",
            "            | |   | / _ \\| | | |  _ \\| |/ _ \\ / _  |/ || |/ _  )/ ___)\n",
            "            | |__/ / |_| | | | | | | | | |_| ( ( | ( (_| ( (/ /| |    \n",
            "            |_____/ \\___/ \\____|_| |_|_|\\___/ \\_||_|\\____|\\____)_|    \n",
            "                                                          \n",
            "        \u001b[0m\n",
            "    [INFO] | Downloading ['Apple', 'Coffee cup', 'Horse'] together.\u001b[0m\n",
            "\u001b[91m   [ERROR] | Missing the class-descriptions-boxable.csv file.\u001b[0m\n",
            "\u001b[94m[DOWNLOAD] | Do you want to download the missing file? [Y/n] \u001b[0my\n",
            "...145%, 0 MB, 46153 KB/s, 0 seconds passed\n",
            "\u001b[94m[DOWNLOAD] | File class-descriptions-boxable.csv downloaded into OID/csv_folder/class-descriptions-boxable.csv.\u001b[0m\n",
            "\u001b[91m   [ERROR] | Missing the train-annotations-bbox.csv file.\u001b[0m\n",
            "\u001b[94m[DOWNLOAD] | Do you want to download the missing file? [Y/n] \u001b[0mY\n",
            "...100%, 1138 MB, 44726 KB/s, 26 seconds passed\n",
            "\u001b[94m[DOWNLOAD] | File train-annotations-bbox.csv downloaded into OID/csv_folder/train-annotations-bbox.csv.\u001b[0m\n",
            "\n",
            "\u001b[95mApple\u001b[0m\n",
            "    [INFO] | Downloading train images.\u001b[0m\n",
            "    [INFO] | [INFO] Found 1078 online images for train.\u001b[0m\n",
            "    [INFO] | Limiting to 500 images.\u001b[0m\n",
            "    [INFO] | Download of 500 images in train.\u001b[0m\n",
            "100% 500/500 [05:24<00:00,  1.54it/s]\n",
            "    [INFO] | Done!\u001b[0m\n",
            "    [INFO] | Creating labels for Apple of train.\u001b[0m\n",
            "    [INFO] | Labels creation completed.\u001b[0m\n",
            "\n",
            "\u001b[95mCoffee cup\u001b[0m\n",
            "    [INFO] | Downloading train images.\u001b[0m\n",
            "    [INFO] | [INFO] Found 3793 online images for train.\u001b[0m\n",
            "    [INFO] | Limiting to 500 images.\u001b[0m\n",
            "    [INFO] | Download of 500 images in train.\u001b[0m\n",
            "100% 500/500 [05:21<00:00,  1.56it/s]\n",
            "    [INFO] | Done!\u001b[0m\n",
            "    [INFO] | Creating labels for Coffee cup of train.\u001b[0m\n",
            "    [INFO] | Labels creation completed.\u001b[0m\n",
            "\n",
            "\u001b[95mHorse\u001b[0m\n",
            "    [INFO] | Downloading train images.\u001b[0m\n",
            "    [INFO] | [INFO] Found 7073 online images for train.\u001b[0m\n",
            "    [INFO] | Limiting to 500 images.\u001b[0m\n",
            "    [INFO] | Download of 500 images in train.\u001b[0m\n",
            "100% 500/500 [05:19<00:00,  1.57it/s]\n",
            "    [INFO] | Done!\u001b[0m\n",
            "    [INFO] | Creating labels for Horse of train.\u001b[0m\n",
            "    [INFO] | Labels creation completed.\u001b[0m\n"
          ]
        }
      ]
    },
    {
      "cell_type": "markdown",
      "metadata": {
        "id": "kPx2xPlW24IX"
      },
      "source": [
        "### Conjunto de imagens de Validação"
      ]
    },
    {
      "cell_type": "code",
      "metadata": {
        "id": "pxkMKV4JZ-mW",
        "outputId": "24f3317b-8675-449c-c3b8-370a080c0bc9",
        "colab": {
          "base_uri": "https://localhost:8080/"
        }
      },
      "source": [
        "!python main.py downloader --classes Apple Coffee_cup Horse --type_csv test --limit 100 --multiclasses 1"
      ],
      "execution_count": 7,
      "outputs": [
        {
          "output_type": "stream",
          "name": "stdout",
          "text": [
            "\u001b[92m\n",
            "\t\t   ___   _____  ______            _    _    \n",
            "\t\t .'   `.|_   _||_   _ `.         | |  | |   \n",
            "\t\t/  .-.  \\ | |    | | `. \\ _   __ | |__| |_  \n",
            "\t\t| |   | | | |    | |  | |[ \\ [  ]|____   _| \n",
            "\t\t\\  `-'  /_| |_  _| |_.' / \\ \\/ /     _| |_  \n",
            "\t\t `.___.'|_____||______.'   \\__/     |_____|\n",
            "\t\u001b[0m\n",
            "\u001b[92m\n",
            "             _____                    _                 _             \n",
            "            (____ \\                  | |               | |            \n",
            "             _   \\ \\ ___  _ _ _ ____ | | ___   ____  _ | | ____  ____ \n",
            "            | |   | / _ \\| | | |  _ \\| |/ _ \\ / _  |/ || |/ _  )/ ___)\n",
            "            | |__/ / |_| | | | | | | | | |_| ( ( | ( (_| ( (/ /| |    \n",
            "            |_____/ \\___/ \\____|_| |_|_|\\___/ \\_||_|\\____|\\____)_|    \n",
            "                                                          \n",
            "        \u001b[0m\n",
            "    [INFO] | Downloading ['Apple', 'Coffee cup', 'Horse'] together.\u001b[0m\n",
            "\u001b[91m   [ERROR] | Missing the test-annotations-bbox.csv file.\u001b[0m\n",
            "\u001b[94m[DOWNLOAD] | Do you want to download the missing file? [Y/n] \u001b[0mY\n",
            "...100%, 49 MB, 39582 KB/s, 1 seconds passed\n",
            "\u001b[94m[DOWNLOAD] | File test-annotations-bbox.csv downloaded into OID/csv_folder/test-annotations-bbox.csv.\u001b[0m\n",
            "\n",
            "\u001b[95mApple\u001b[0m\n",
            "    [INFO] | Downloading test images.\u001b[0m\n",
            "    [INFO] | [INFO] Found 144 online images for test.\u001b[0m\n",
            "    [INFO] | Limiting to 100 images.\u001b[0m\n",
            "    [INFO] | Download of 100 images in test.\u001b[0m\n",
            "100% 100/100 [01:02<00:00,  1.61it/s]\n",
            "    [INFO] | Done!\u001b[0m\n",
            "    [INFO] | Creating labels for Apple of test.\u001b[0m\n",
            "    [INFO] | Labels creation completed.\u001b[0m\n",
            "\n",
            "\u001b[95mCoffee cup\u001b[0m\n",
            "    [INFO] | Downloading test images.\u001b[0m\n",
            "    [INFO] | [INFO] Found 409 online images for test.\u001b[0m\n",
            "    [INFO] | Limiting to 100 images.\u001b[0m\n",
            "    [INFO] | Download of 100 images in test.\u001b[0m\n",
            "100% 100/100 [01:04<00:00,  1.56it/s]\n",
            "    [INFO] | Done!\u001b[0m\n",
            "    [INFO] | Creating labels for Coffee cup of test.\u001b[0m\n",
            "    [INFO] | Labels creation completed.\u001b[0m\n",
            "\n",
            "\u001b[95mHorse\u001b[0m\n",
            "    [INFO] | Downloading test images.\u001b[0m\n",
            "    [INFO] | [INFO] Found 794 online images for test.\u001b[0m\n",
            "    [INFO] | Limiting to 100 images.\u001b[0m\n",
            "    [INFO] | Download of 100 images in test.\u001b[0m\n",
            "100% 100/100 [01:04<00:00,  1.54it/s]\n",
            "    [INFO] | Done!\u001b[0m\n",
            "    [INFO] | Creating labels for Horse of test.\u001b[0m\n",
            "    [INFO] | Labels creation completed.\u001b[0m\n"
          ]
        }
      ]
    },
    {
      "cell_type": "markdown",
      "metadata": {
        "id": "qV818C8StBBB"
      },
      "source": [
        "## Etapa 5 - Convertendo os arquivos de anotação"
      ]
    },
    {
      "cell_type": "markdown",
      "metadata": {
        "id": "INFDGAt7u2GX"
      },
      "source": [
        "### 1. Colocar as classes no arquivo classes.txt"
      ]
    },
    {
      "cell_type": "code",
      "metadata": {
        "id": "9GWaBFIqegFC",
        "outputId": "b0040183-6668-47d6-c87f-e858258fdacd",
        "colab": {
          "base_uri": "https://localhost:8080/"
        }
      },
      "source": [
        "!cat classes.txt"
      ],
      "execution_count": 8,
      "outputs": [
        {
          "output_type": "stream",
          "name": "stdout",
          "text": [
            "Apple\n",
            "Orange\n",
            "Light switch\n"
          ]
        }
      ]
    },
    {
      "cell_type": "code",
      "metadata": {
        "id": "fw8RPcn5euoA"
      },
      "source": [
        "# Copiar isso no classes.txt\n",
        "!echo -e 'Apple\\nCoffee cup\\nHorse' > classes.txt"
      ],
      "execution_count": 9,
      "outputs": []
    },
    {
      "cell_type": "markdown",
      "metadata": {
        "id": "s2JDmfEbuOHH"
      },
      "source": [
        "### 2. Baixar o arquivo converter_annotations.py e adicione-o ao diretório"
      ]
    },
    {
      "cell_type": "code",
      "metadata": {
        "id": "YkIDIbpHe_K-",
        "outputId": "4887b06a-1d37-4e9b-96bb-0730726cbd6f",
        "colab": {
          "base_uri": "https://localhost:8080/"
        }
      },
      "source": [
        "from google.colab import drive\n",
        "drive.mount('/content/gdrive')"
      ],
      "execution_count": 10,
      "outputs": [
        {
          "output_type": "stream",
          "name": "stdout",
          "text": [
            "Mounted at /content/gdrive\n"
          ]
        }
      ]
    },
    {
      "cell_type": "code",
      "metadata": {
        "id": "p2NfFgdkfZ7N",
        "outputId": "f6273664-e658-4b64-ed9e-92c1a144b9a3",
        "colab": {
          "base_uri": "https://localhost:8080/"
        }
      },
      "source": [
        "!unzip /content/gdrive/MyDrive/YOLO/recursos/TreinamentoYOLO.zip -d /content/"
      ],
      "execution_count": 11,
      "outputs": [
        {
          "output_type": "stream",
          "name": "stdout",
          "text": [
            "Archive:  /content/gdrive/MyDrive/YOLO/recursos/TreinamentoYOLO.zip\n",
            "   creating: /content/TreinamentoYOLO/\n",
            "  inflating: /content/__MACOSX/._TreinamentoYOLO  \n",
            "  inflating: /content/TreinamentoYOLO/.DS_Store  \n",
            "  inflating: /content/__MACOSX/TreinamentoYOLO/._.DS_Store  \n",
            "  inflating: /content/TreinamentoYOLO/converter_annotations.py  \n",
            "  inflating: /content/__MACOSX/TreinamentoYOLO/._converter_annotations.py  \n",
            "  inflating: /content/TreinamentoYOLO/gerar_test.py  \n",
            "  inflating: /content/__MACOSX/TreinamentoYOLO/._gerar_test.py  \n",
            "  inflating: /content/TreinamentoYOLO/gerar_train.py  \n",
            "  inflating: /content/__MACOSX/TreinamentoYOLO/._gerar_train.py  \n"
          ]
        }
      ]
    },
    {
      "cell_type": "code",
      "metadata": {
        "id": "lG-n37GKf4Pp",
        "outputId": "3c780252-61f5-4f07-d613-2bb59f15c357",
        "colab": {
          "base_uri": "https://localhost:8080/"
        }
      },
      "source": [
        "ls"
      ],
      "execution_count": 12,
      "outputs": [
        {
          "output_type": "stream",
          "name": "stdout",
          "text": [
            "classes.txt  \u001b[0m\u001b[01;34mimages\u001b[0m/  LICENSE  main.py  \u001b[01;34mmodules\u001b[0m/  \u001b[01;34mOID\u001b[0m/  README.md  requirements.txt\n"
          ]
        }
      ]
    },
    {
      "cell_type": "code",
      "metadata": {
        "id": "WhGjsUm0f9_5"
      },
      "source": [
        "# Copiando para a pasta do YOLO\n",
        "!cp /content/TreinamentoYOLO/converter_annotations.py ./"
      ],
      "execution_count": 13,
      "outputs": []
    },
    {
      "cell_type": "markdown",
      "metadata": {
        "id": "ll5d8wUOuklN"
      },
      "source": [
        "### 3. Executar o arquivo de conversão\n",
        "\n"
      ]
    },
    {
      "cell_type": "code",
      "metadata": {
        "id": "-sSdpqGCiMkE",
        "outputId": "d6765d23-efaa-4c3b-e527-7a458efbb1c1",
        "colab": {
          "base_uri": "https://localhost:8080/"
        }
      },
      "source": [
        "# Executar arquivo para converter as anotações e colocar no formato aceito pelo YOLO\n",
        "!python converter_annotations.py"
      ],
      "execution_count": 14,
      "outputs": [
        {
          "output_type": "stream",
          "name": "stdout",
          "text": [
            "Subdiretorio atual: test\n",
            "Convertendo os annotations para a classe:  Apple_Coffee cup_Horse\n",
            "100% 300/300 [00:04<00:00, 66.29it/s]\n",
            "Subdiretorio atual: train\n",
            "Convertendo os annotations para a classe:  Apple_Coffee cup_Horse\n",
            "100% 1500/1500 [00:24<00:00, 60.37it/s]\n"
          ]
        }
      ]
    },
    {
      "cell_type": "markdown",
      "metadata": {
        "id": "917MlTGGfEOj"
      },
      "source": [
        "## Etapa 6 - Compactar o dataset"
      ]
    },
    {
      "cell_type": "code",
      "metadata": {
        "id": "Nm4AOqNajiJ9",
        "outputId": "f0ffab96-934e-4c79-88ba-e1cf71a9940d",
        "colab": {
          "base_uri": "https://localhost:8080/"
        }
      },
      "source": [
        "cd OID/Dataset/train/"
      ],
      "execution_count": 40,
      "outputs": [
        {
          "output_type": "stream",
          "name": "stdout",
          "text": [
            "/content/OIDv4_ToolKit/OID/Dataset/train\n"
          ]
        }
      ]
    },
    {
      "cell_type": "code",
      "metadata": {
        "id": "8R744ykEj2HY",
        "outputId": "1e6a8212-35fa-4e81-9efb-872caaa54cb0",
        "colab": {
          "base_uri": "https://localhost:8080/"
        }
      },
      "source": [
        "ls"
      ],
      "execution_count": 41,
      "outputs": [
        {
          "output_type": "stream",
          "name": "stdout",
          "text": [
            "\u001b[0m\u001b[01;34mobj\u001b[0m/\n"
          ]
        }
      ]
    },
    {
      "cell_type": "code",
      "metadata": {
        "id": "YDBpEyQDj5o2",
        "collapsed": true
      },
      "source": [
        "!zip -r ../../../obj.zip obj -x obj/Label/*"
      ],
      "execution_count": null,
      "outputs": []
    },
    {
      "cell_type": "code",
      "metadata": {
        "id": "xksgbTt8kouv",
        "outputId": "ca27ed75-658e-4586-e6d8-a1ab7352a74b",
        "colab": {
          "base_uri": "https://localhost:8080/"
        }
      },
      "source": [
        "ls"
      ],
      "execution_count": 43,
      "outputs": [
        {
          "output_type": "stream",
          "name": "stdout",
          "text": [
            "\u001b[0m\u001b[01;34mobj\u001b[0m/\n"
          ]
        }
      ]
    },
    {
      "cell_type": "code",
      "metadata": {
        "id": "sn3CGKV5k07h",
        "outputId": "cf8991ec-0b07-4edb-db90-8c6531f8470e",
        "colab": {
          "base_uri": "https://localhost:8080/"
        }
      },
      "source": [
        "cd ../../../../"
      ],
      "execution_count": 44,
      "outputs": [
        {
          "output_type": "stream",
          "name": "stdout",
          "text": [
            "/content\n"
          ]
        }
      ]
    },
    {
      "cell_type": "code",
      "metadata": {
        "id": "WZWa1gL3k48c",
        "outputId": "87ec79d6-640c-4718-c4e8-6cc11a1ceb14",
        "colab": {
          "base_uri": "https://localhost:8080/"
        }
      },
      "source": [
        "ls"
      ],
      "execution_count": 45,
      "outputs": [
        {
          "output_type": "stream",
          "name": "stdout",
          "text": [
            "\u001b[0m\u001b[01;34mgdrive\u001b[0m/  \u001b[01;34m__MACOSX\u001b[0m/  \u001b[01;34mOIDv4_ToolKit\u001b[0m/  \u001b[01;34msample_data\u001b[0m/  \u001b[01;34mTreinamentoYOLO\u001b[0m/\n"
          ]
        }
      ]
    },
    {
      "cell_type": "code",
      "metadata": {
        "id": "oqcY9-5LlMid",
        "outputId": "9f076a61-2042-4604-830c-2bedea8645ac",
        "colab": {
          "base_uri": "https://localhost:8080/"
        }
      },
      "source": [
        "cd OIDv4_ToolKit/"
      ],
      "execution_count": 46,
      "outputs": [
        {
          "output_type": "stream",
          "name": "stdout",
          "text": [
            "/content/OIDv4_ToolKit\n"
          ]
        }
      ]
    },
    {
      "cell_type": "code",
      "metadata": {
        "id": "gb4YFh1tk_Xn",
        "colab": {
          "base_uri": "https://localhost:8080/"
        },
        "outputId": "ea8c4ef2-f8be-4225-bdab-b0de5c1aca77"
      },
      "source": [
        "!cp ./obj.zip /content/gdrive/MyDrive/YOLO/recursos"
      ],
      "execution_count": 48,
      "outputs": [
        {
          "output_type": "stream",
          "name": "stdout",
          "text": [
            "cp: cannot create regular file '/content/gdrive/MyDrive/YOLO/recursos/obj.zip': Operation not permitted\n"
          ]
        }
      ]
    },
    {
      "cell_type": "code",
      "metadata": {
        "id": "Gz2Ov2vooUDC",
        "outputId": "e008b0bd-7d2c-41ce-94ab-e3bb6730ecbb",
        "colab": {
          "base_uri": "https://localhost:8080/"
        }
      },
      "source": [
        "ls"
      ],
      "execution_count": 49,
      "outputs": [
        {
          "output_type": "stream",
          "name": "stdout",
          "text": [
            "classes.txt               \u001b[0m\u001b[01;34mimages\u001b[0m/  main.py   obj.zip  README.md\n",
            "converter_annotations.py  LICENSE  \u001b[01;34mmodules\u001b[0m/  \u001b[01;34mOID\u001b[0m/     requirements.txt\n"
          ]
        }
      ]
    },
    {
      "cell_type": "code",
      "metadata": {
        "id": "hB4oiSPOoa1Q"
      },
      "source": [
        "!zip -r ../../../../valid.zip valid -x valid/Label/*"
      ],
      "execution_count": null,
      "outputs": []
    },
    {
      "cell_type": "code",
      "metadata": {
        "id": "rJh_W0Gho4tM",
        "outputId": "bf002800-dfdd-4cfc-a97f-1e4f3e6b2a1f",
        "colab": {
          "base_uri": "https://localhost:8080/",
          "height": 55
        }
      },
      "source": [
        "cd /content/"
      ],
      "execution_count": null,
      "outputs": [
        {
          "output_type": "stream",
          "text": [
            "/content\n"
          ],
          "name": "stdout"
        }
      ]
    },
    {
      "cell_type": "code",
      "metadata": {
        "id": "smj22rvso12t",
        "outputId": "4584c9f0-16b3-4b47-c26c-5f5027dccc5b",
        "colab": {
          "base_uri": "https://localhost:8080/",
          "height": 55
        }
      },
      "source": [
        "ls"
      ],
      "execution_count": null,
      "outputs": [
        {
          "output_type": "stream",
          "text": [
            "\u001b[0m\u001b[01;34mgdrive\u001b[0m/  \u001b[01;34m__MACOSX\u001b[0m/  \u001b[01;34mOIDv4_ToolKit\u001b[0m/  \u001b[01;34msample_data\u001b[0m/  \u001b[01;34mTreinamentoYOLO\u001b[0m/  valid.zip\n"
          ],
          "name": "stdout"
        }
      ]
    },
    {
      "cell_type": "code",
      "metadata": {
        "id": "vAwf5nqpoxlW",
        "colab": {
          "base_uri": "https://localhost:8080/"
        },
        "outputId": "b480b445-02aa-4138-8de9-832564919fd9"
      },
      "source": [
        "!cp ./valid.zip /content/gdrive/MyDrive/YOLO/\n"
      ],
      "execution_count": 25,
      "outputs": [
        {
          "output_type": "stream",
          "name": "stdout",
          "text": [
            "cp: cannot stat './valid.zip': No such file or directory\n"
          ]
        }
      ]
    },
    {
      "cell_type": "markdown",
      "metadata": {
        "id": "ve4pgC1vcF7i"
      },
      "source": [
        "# Editando os arquivos de configuração necessários para o treinamento"
      ]
    },
    {
      "cell_type": "code",
      "metadata": {
        "id": "Ev1W2p-spOsb",
        "outputId": "0bffe19e-f06a-4939-93db-6b1725e61d58",
        "colab": {
          "base_uri": "https://localhost:8080/"
        }
      },
      "source": [
        "ls"
      ],
      "execution_count": 50,
      "outputs": [
        {
          "output_type": "stream",
          "name": "stdout",
          "text": [
            "classes.txt               \u001b[0m\u001b[01;34mimages\u001b[0m/  main.py   obj.zip  README.md\n",
            "converter_annotations.py  LICENSE  \u001b[01;34mmodules\u001b[0m/  \u001b[01;34mOID\u001b[0m/     requirements.txt\n"
          ]
        }
      ]
    },
    {
      "cell_type": "code",
      "metadata": {
        "id": "9em6-_YZpThh",
        "outputId": "5625e19f-184d-44ee-d810-97a85587fb18",
        "colab": {
          "base_uri": "https://localhost:8080/",
          "height": 35
        }
      },
      "source": [
        "pwd"
      ],
      "execution_count": 51,
      "outputs": [
        {
          "output_type": "execute_result",
          "data": {
            "text/plain": [
              "'/content/OIDv4_ToolKit'"
            ],
            "application/vnd.google.colaboratory.intrinsic+json": {
              "type": "string"
            }
          },
          "metadata": {},
          "execution_count": 51
        }
      ]
    },
    {
      "cell_type": "code",
      "metadata": {
        "id": "rbnfuDs_pJNM",
        "outputId": "a05f851e-7e27-4e1d-dff7-99beca562e97",
        "colab": {
          "base_uri": "https://localhost:8080/"
        }
      },
      "source": [
        "!git clone https://github.com/AlexeyAB/darknet"
      ],
      "execution_count": 52,
      "outputs": [
        {
          "output_type": "stream",
          "name": "stdout",
          "text": [
            "Cloning into 'darknet'...\n",
            "remote: Enumerating objects: 15900, done.\u001b[K\n",
            "remote: Counting objects: 100% (55/55), done.\u001b[K\n",
            "remote: Compressing objects: 100% (42/42), done.\u001b[K\n",
            "remote: Total 15900 (delta 27), reused 21 (delta 13), pack-reused 15845 (from 2)\u001b[K\n",
            "Receiving objects: 100% (15900/15900), 14.51 MiB | 14.90 MiB/s, done.\n",
            "Resolving deltas: 100% (10693/10693), done.\n"
          ]
        }
      ]
    },
    {
      "cell_type": "code",
      "metadata": {
        "id": "IE2svmd-pdfM",
        "outputId": "4859efc6-fa14-4397-d6ea-ea68394bcb59",
        "colab": {
          "base_uri": "https://localhost:8080/"
        }
      },
      "source": [
        "cd darknet/"
      ],
      "execution_count": 53,
      "outputs": [
        {
          "output_type": "stream",
          "name": "stdout",
          "text": [
            "/content/OIDv4_ToolKit/darknet\n"
          ]
        }
      ]
    },
    {
      "cell_type": "code",
      "metadata": {
        "id": "Phk6aTrwphBy"
      },
      "source": [
        "!make"
      ],
      "execution_count": null,
      "outputs": []
    },
    {
      "cell_type": "markdown",
      "metadata": {
        "id": "nC4Jn6i7gEjm"
      },
      "source": [
        "## Etapa 7 - Definindo os arquivos de configuração"
      ]
    },
    {
      "cell_type": "markdown",
      "metadata": {
        "id": "fVOROvtWzU4y"
      },
      "source": [
        "### Modificações no .cfg"
      ]
    },
    {
      "cell_type": "code",
      "metadata": {
        "id": "ul3L4aAjrAdF",
        "colab": {
          "base_uri": "https://localhost:8080/"
        },
        "outputId": "cf3fefee-c65a-4aad-eb3e-2d2fb11b010a"
      },
      "source": [
        "!cp cfg/yolov4.cfg /content/gdrive/MyDrive/YOLO/recursos/yolov4_custom.cfg\n"
      ],
      "execution_count": 56,
      "outputs": [
        {
          "output_type": "stream",
          "name": "stdout",
          "text": [
            "cp: cannot create regular file '/content/gdrive/MyDrive/YOLO/recursos/yolov4_custom.cfg': Operation not permitted\n"
          ]
        }
      ]
    },
    {
      "cell_type": "markdown",
      "metadata": {
        "id": "1CaFZnKGGw9s"
      },
      "source": [
        "### Modificações no obj.names e obj.data"
      ]
    },
    {
      "cell_type": "code",
      "metadata": {
        "id": "KKnURn0DtIqX"
      },
      "source": [
        "!touch obj.names\n",
        "!touch obj.data"
      ],
      "execution_count": 57,
      "outputs": []
    },
    {
      "cell_type": "code",
      "metadata": {
        "id": "Als3-ZzVtXmX"
      },
      "source": [
        "!cp obj.names /content/gdrive/My\\ Drive/Cursos\\ -\\ recursos/YOLO/recursos/obj.names\n",
        "!cp obj.data /content/gdrive/My\\ Drive/Cursos\\ -\\ recursos/YOLO/recursos/obj.data"
      ],
      "execution_count": null,
      "outputs": []
    },
    {
      "cell_type": "markdown",
      "metadata": {
        "id": "xQkErxsnvNJ3"
      },
      "source": [
        "## Etapa 8 - Gerando o arquivo train.txt e test.txt"
      ]
    },
    {
      "cell_type": "code",
      "metadata": {
        "id": "74tRE2tquzgc",
        "outputId": "a365641a-7511-4c3c-80b4-ce4756416b34",
        "colab": {
          "base_uri": "https://localhost:8080/",
          "height": 35
        }
      },
      "source": [
        "pwd"
      ],
      "execution_count": 58,
      "outputs": [
        {
          "output_type": "execute_result",
          "data": {
            "text/plain": [
              "'/content/OIDv4_ToolKit/darknet'"
            ],
            "application/vnd.google.colaboratory.intrinsic+json": {
              "type": "string"
            }
          },
          "metadata": {},
          "execution_count": 58
        }
      ]
    },
    {
      "cell_type": "code",
      "metadata": {
        "id": "ROkyKD9eu5O8",
        "outputId": "5fa65b20-c1fb-4a04-d769-2b2da7ce5187",
        "colab": {
          "base_uri": "https://localhost:8080/"
        }
      },
      "source": [
        "cd .."
      ],
      "execution_count": 59,
      "outputs": [
        {
          "output_type": "stream",
          "name": "stdout",
          "text": [
            "/content/OIDv4_ToolKit\n"
          ]
        }
      ]
    },
    {
      "cell_type": "code",
      "metadata": {
        "id": "3X_Kn9mTu8vH"
      },
      "source": [
        "cd OIDv4_ToolKit/"
      ],
      "execution_count": null,
      "outputs": []
    },
    {
      "cell_type": "code",
      "metadata": {
        "id": "tzL3aAwbunDw"
      },
      "source": [
        "!unzip obj.zip -d ./data"
      ],
      "execution_count": null,
      "outputs": []
    },
    {
      "cell_type": "code",
      "metadata": {
        "id": "6oJwot7hvaO5"
      },
      "source": [
        "!unzip /content/valid.zip -d ./data"
      ],
      "execution_count": null,
      "outputs": []
    },
    {
      "cell_type": "code",
      "metadata": {
        "id": "wEgxphvav0Nr",
        "outputId": "72622033-e985-46ea-f086-d49f7d9c65d2",
        "colab": {
          "base_uri": "https://localhost:8080/",
          "height": 35
        }
      },
      "source": [
        "pwd"
      ],
      "execution_count": 63,
      "outputs": [
        {
          "output_type": "execute_result",
          "data": {
            "text/plain": [
              "'/content/OIDv4_ToolKit'"
            ],
            "application/vnd.google.colaboratory.intrinsic+json": {
              "type": "string"
            }
          },
          "metadata": {},
          "execution_count": 63
        }
      ]
    },
    {
      "cell_type": "code",
      "metadata": {
        "id": "wzC1QX1RvoUE"
      },
      "source": [
        "!python /content/TreinamentoYOLO/gerar_train.py"
      ],
      "execution_count": 64,
      "outputs": []
    },
    {
      "cell_type": "code",
      "metadata": {
        "id": "eB6cmSv3wVh_"
      },
      "source": [
        "!python /content/TreinamentoYOLO/gerar_test.py"
      ],
      "execution_count": null,
      "outputs": []
    },
    {
      "cell_type": "code",
      "metadata": {
        "id": "2MqXbdOjwqBH"
      },
      "source": [
        "cd data"
      ],
      "execution_count": null,
      "outputs": []
    },
    {
      "cell_type": "code",
      "metadata": {
        "id": "0iRc_RE2wl0Z"
      },
      "source": [
        "pwd"
      ],
      "execution_count": null,
      "outputs": []
    },
    {
      "cell_type": "code",
      "metadata": {
        "id": "oDCbphzGwceC"
      },
      "source": [
        "!cp train.txt /content/gdrive/My\\ Drive/Cursos\\ -\\ recursos/YOLO/recursos/train.txt"
      ],
      "execution_count": null,
      "outputs": []
    },
    {
      "cell_type": "code",
      "metadata": {
        "id": "gdO9qHhRwu9T"
      },
      "source": [
        "!cp test.txt /content/gdrive/My\\ Drive/Cursos\\ -\\ recursos/YOLO/recursos/test.txt"
      ],
      "execution_count": null,
      "outputs": []
    }
  ]
}